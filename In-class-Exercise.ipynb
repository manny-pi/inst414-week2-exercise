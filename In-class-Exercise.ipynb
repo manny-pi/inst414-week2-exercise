{
 "cells": [
  {
   "cell_type": "code",
   "execution_count": 1,
   "metadata": {},
   "outputs": [],
   "source": [
    "import pandas as pd"
   ]
  },
  {
   "cell_type": "code",
   "execution_count": 4,
   "metadata": {},
   "outputs": [],
   "source": [
    "imdb_df = pd.read_json(\"imdb_movies_1985to2022.json\", lines=True)"
   ]
  },
  {
   "cell_type": "code",
   "execution_count": 6,
   "metadata": {},
   "outputs": [
    {
     "data": {
      "text/html": [
       "<div>\n",
       "<style scoped>\n",
       "    .dataframe tbody tr th:only-of-type {\n",
       "        vertical-align: middle;\n",
       "    }\n",
       "\n",
       "    .dataframe tbody tr th {\n",
       "        vertical-align: top;\n",
       "    }\n",
       "\n",
       "    .dataframe thead th {\n",
       "        text-align: right;\n",
       "    }\n",
       "</style>\n",
       "<table border=\"1\" class=\"dataframe\">\n",
       "  <thead>\n",
       "    <tr style=\"text-align: right;\">\n",
       "      <th></th>\n",
       "      <th>imdb_id</th>\n",
       "      <th>title</th>\n",
       "      <th>year</th>\n",
       "      <th>runtime</th>\n",
       "      <th>genres</th>\n",
       "      <th>actors</th>\n",
       "      <th>rating</th>\n",
       "    </tr>\n",
       "  </thead>\n",
       "  <tbody>\n",
       "    <tr>\n",
       "      <th>0</th>\n",
       "      <td>tt0035423</td>\n",
       "      <td>Kate &amp; Leopold</td>\n",
       "      <td>2001</td>\n",
       "      <td>118</td>\n",
       "      <td>[Comedy, Fantasy, Romance]</td>\n",
       "      <td>[[nm0000212, Meg Ryan], [nm0413168, Hugh Jackm...</td>\n",
       "      <td>{'avg': 6.4, 'votes': 85923}</td>\n",
       "    </tr>\n",
       "    <tr>\n",
       "      <th>1</th>\n",
       "      <td>tt0064820</td>\n",
       "      <td>The Plot Against Harry</td>\n",
       "      <td>1989</td>\n",
       "      <td>81</td>\n",
       "      <td>[Comedy, Crime]</td>\n",
       "      <td>[[nm0697338, Martin Priest], [nm1300519, Ben L...</td>\n",
       "      <td>{'avg': 6.9, 'votes': 344}</td>\n",
       "    </tr>\n",
       "    <tr>\n",
       "      <th>2</th>\n",
       "      <td>tt0068494</td>\n",
       "      <td>Domo Arigato</td>\n",
       "      <td>1990</td>\n",
       "      <td>91</td>\n",
       "      <td>[Drama]</td>\n",
       "      <td>[[nm0792032, Bonnie Sher], [nm0496571, Jason L...</td>\n",
       "      <td>{'avg': 5.1, 'votes': 19}</td>\n",
       "    </tr>\n",
       "    <tr>\n",
       "      <th>3</th>\n",
       "      <td>tt0069049</td>\n",
       "      <td>The Other Side of the Wind</td>\n",
       "      <td>2018</td>\n",
       "      <td>122</td>\n",
       "      <td>[Drama]</td>\n",
       "      <td>[[nm0001379, John Huston], [nm0462648, Oja Kod...</td>\n",
       "      <td>{'avg': 6.7, 'votes': 7545}</td>\n",
       "    </tr>\n",
       "    <tr>\n",
       "      <th>4</th>\n",
       "      <td>tt0071560</td>\n",
       "      <td>Evil Town</td>\n",
       "      <td>1987</td>\n",
       "      <td>82</td>\n",
       "      <td>[Horror]</td>\n",
       "      <td>[[nm0005077, James Keach], [nm0550626, Michele...</td>\n",
       "      <td>{'avg': 3.8, 'votes': 374}</td>\n",
       "    </tr>\n",
       "  </tbody>\n",
       "</table>\n",
       "</div>"
      ],
      "text/plain": [
       "     imdb_id                       title  year runtime  \\\n",
       "0  tt0035423              Kate & Leopold  2001     118   \n",
       "1  tt0064820      The Plot Against Harry  1989      81   \n",
       "2  tt0068494                Domo Arigato  1990      91   \n",
       "3  tt0069049  The Other Side of the Wind  2018     122   \n",
       "4  tt0071560                   Evil Town  1987      82   \n",
       "\n",
       "                       genres  \\\n",
       "0  [Comedy, Fantasy, Romance]   \n",
       "1             [Comedy, Crime]   \n",
       "2                     [Drama]   \n",
       "3                     [Drama]   \n",
       "4                    [Horror]   \n",
       "\n",
       "                                              actors  \\\n",
       "0  [[nm0000212, Meg Ryan], [nm0413168, Hugh Jackm...   \n",
       "1  [[nm0697338, Martin Priest], [nm1300519, Ben L...   \n",
       "2  [[nm0792032, Bonnie Sher], [nm0496571, Jason L...   \n",
       "3  [[nm0001379, John Huston], [nm0462648, Oja Kod...   \n",
       "4  [[nm0005077, James Keach], [nm0550626, Michele...   \n",
       "\n",
       "                         rating  \n",
       "0  {'avg': 6.4, 'votes': 85923}  \n",
       "1    {'avg': 6.9, 'votes': 344}  \n",
       "2     {'avg': 5.1, 'votes': 19}  \n",
       "3   {'avg': 6.7, 'votes': 7545}  \n",
       "4    {'avg': 3.8, 'votes': 374}  "
      ]
     },
     "execution_count": 6,
     "metadata": {},
     "output_type": "execute_result"
    }
   ],
   "source": [
    "imdb_df.head()"
   ]
  },
  {
   "cell_type": "code",
   "execution_count": 8,
   "metadata": {},
   "outputs": [
    {
     "data": {
      "text/plain": [
       "imdb_id    object\n",
       "title      object\n",
       "year        int64\n",
       "runtime    object\n",
       "genres     object\n",
       "actors     object\n",
       "rating     object\n",
       "dtype: object"
      ]
     },
     "execution_count": 8,
     "metadata": {},
     "output_type": "execute_result"
    }
   ],
   "source": [
    "imdb_df.dtypes"
   ]
  }
 ],
 "metadata": {
  "kernelspec": {
   "display_name": "Python 3",
   "language": "python",
   "name": "python3"
  },
  "language_info": {
   "codemirror_mode": {
    "name": "ipython",
    "version": 3
   },
   "file_extension": ".py",
   "mimetype": "text/x-python",
   "name": "python",
   "nbconvert_exporter": "python",
   "pygments_lexer": "ipython3",
   "version": "3.8.2"
  },
  "orig_nbformat": 4,
  "vscode": {
   "interpreter": {
    "hash": "aee8b7b246df8f9039afb4144a1f6fd8d2ca17a180786b69acc140d282b71a49"
   }
  }
 },
 "nbformat": 4,
 "nbformat_minor": 2
}
